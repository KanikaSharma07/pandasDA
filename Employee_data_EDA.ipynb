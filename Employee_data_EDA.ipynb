{
 "cells": [
  {
   "cell_type": "code",
   "execution_count": 1,
   "metadata": {},
   "outputs": [],
   "source": [
    "import numpy as np\n",
    "import pandas as pd\n",
    "import os\n",
    "import seaborn as sns\n"
   ]
  },
  {
   "cell_type": "code",
   "execution_count": 2,
   "metadata": {},
   "outputs": [
    {
     "data": {
      "text/plain": [
       "'C:\\\\Users\\\\Dell\\\\Desktop\\\\MDS'"
      ]
     },
     "execution_count": 2,
     "metadata": {},
     "output_type": "execute_result"
    }
   ],
   "source": [
    "os.getcwd()"
   ]
  },
  {
   "cell_type": "code",
   "execution_count": 3,
   "metadata": {},
   "outputs": [],
   "source": [
    "os.chdir(\"C:\\\\Users\\\\Dell\\\\Desktop\\\\MDS\\\\New folder\\\\PANDAS READ DATA\\\\PANDAS READ FILE WITH  DATA\")"
   ]
  },
  {
   "cell_type": "code",
   "execution_count": 4,
   "metadata": {},
   "outputs": [
    {
     "data": {
      "text/plain": [
       "0      {'candidate': {'first_name': 'Margaret', 'last...\n",
       "1      {'candidate': {'first_name': 'Michael', 'last_...\n",
       "2      {'candidate': {'first_name': 'Brenda', 'last_n...\n",
       "3      {'candidate': {'first_name': 'Joseph', 'last_n...\n",
       "4      {'candidate': {'first_name': 'Laura', 'last_na...\n",
       "                             ...                        \n",
       "495    {'candidate': {'first_name': 'Robert', 'last_n...\n",
       "496    {'candidate': {'first_name': 'Lucas', 'last_na...\n",
       "497    {'candidate': {'first_name': 'Kimberly', 'last...\n",
       "498    {'candidate': {'first_name': 'Karla', 'last_na...\n",
       "499    {'candidate': {'first_name': 'Mrs.', 'last_nam...\n",
       "Name: features, Length: 500, dtype: object"
      ]
     },
     "execution_count": 4,
     "metadata": {},
     "output_type": "execute_result"
    }
   ],
   "source": [
    "data=pd.read_json(\"employee_data.json\")\n",
    "data['features']"
   ]
  },
  {
   "cell_type": "code",
   "execution_count": 5,
   "metadata": {},
   "outputs": [],
   "source": [
    "l=[v1['candidate'] for v1 in data['features']]\n",
    "data1=pd.DataFrame(l)"
   ]
  },
  {
   "cell_type": "code",
   "execution_count": 6,
   "metadata": {},
   "outputs": [
    {
     "name": "stdout",
     "output_type": "stream",
     "text": [
      "<class 'pandas.core.frame.DataFrame'>\n",
      "RangeIndex: 500 entries, 0 to 499\n",
      "Data columns (total 7 columns):\n",
      " #   Column      Non-Null Count  Dtype \n",
      "---  ------      --------------  ----- \n",
      " 0   first_name  500 non-null    object\n",
      " 1   last_name   500 non-null    object\n",
      " 2   skills      500 non-null    object\n",
      " 3   state       500 non-null    object\n",
      " 4   specialty   500 non-null    object\n",
      " 5   experience  500 non-null    object\n",
      " 6   relocation  500 non-null    object\n",
      "dtypes: object(7)\n",
      "memory usage: 27.5+ KB\n"
     ]
    }
   ],
   "source": [
    "data1.info()"
   ]
  },
  {
   "cell_type": "code",
   "execution_count": 7,
   "metadata": {},
   "outputs": [
    {
     "data": {
      "text/html": [
       "<div>\n",
       "<style scoped>\n",
       "    .dataframe tbody tr th:only-of-type {\n",
       "        vertical-align: middle;\n",
       "    }\n",
       "\n",
       "    .dataframe tbody tr th {\n",
       "        vertical-align: top;\n",
       "    }\n",
       "\n",
       "    .dataframe thead th {\n",
       "        text-align: right;\n",
       "    }\n",
       "</style>\n",
       "<table border=\"1\" class=\"dataframe\">\n",
       "  <thead>\n",
       "    <tr style=\"text-align: right;\">\n",
       "      <th></th>\n",
       "      <th>first_name</th>\n",
       "      <th>last_name</th>\n",
       "      <th>skills</th>\n",
       "      <th>state</th>\n",
       "      <th>specialty</th>\n",
       "      <th>experience</th>\n",
       "      <th>relocation</th>\n",
       "    </tr>\n",
       "  </thead>\n",
       "  <tbody>\n",
       "    <tr>\n",
       "      <th>count</th>\n",
       "      <td>500</td>\n",
       "      <td>500</td>\n",
       "      <td>500</td>\n",
       "      <td>500</td>\n",
       "      <td>500</td>\n",
       "      <td>500</td>\n",
       "      <td>500</td>\n",
       "    </tr>\n",
       "    <tr>\n",
       "      <th>unique</th>\n",
       "      <td>243</td>\n",
       "      <td>308</td>\n",
       "      <td>428</td>\n",
       "      <td>50</td>\n",
       "      <td>4</td>\n",
       "      <td>3</td>\n",
       "      <td>3</td>\n",
       "    </tr>\n",
       "    <tr>\n",
       "      <th>top</th>\n",
       "      <td>Michael</td>\n",
       "      <td>Jones</td>\n",
       "      <td>[Spark]</td>\n",
       "      <td>MO</td>\n",
       "      <td>Database</td>\n",
       "      <td>Mid</td>\n",
       "      <td>no</td>\n",
       "    </tr>\n",
       "    <tr>\n",
       "      <th>freq</th>\n",
       "      <td>16</td>\n",
       "      <td>10</td>\n",
       "      <td>11</td>\n",
       "      <td>17</td>\n",
       "      <td>137</td>\n",
       "      <td>179</td>\n",
       "      <td>172</td>\n",
       "    </tr>\n",
       "  </tbody>\n",
       "</table>\n",
       "</div>"
      ],
      "text/plain": [
       "       first_name last_name   skills state specialty experience relocation\n",
       "count         500       500      500   500       500        500        500\n",
       "unique        243       308      428    50         4          3          3\n",
       "top       Michael     Jones  [Spark]    MO  Database        Mid         no\n",
       "freq           16        10       11    17       137        179        172"
      ]
     },
     "execution_count": 7,
     "metadata": {},
     "output_type": "execute_result"
    }
   ],
   "source": [
    "data1.describe()"
   ]
  },
  {
   "cell_type": "code",
   "execution_count": 8,
   "metadata": {},
   "outputs": [
    {
     "data": {
      "text/html": [
       "<div>\n",
       "<style scoped>\n",
       "    .dataframe tbody tr th:only-of-type {\n",
       "        vertical-align: middle;\n",
       "    }\n",
       "\n",
       "    .dataframe tbody tr th {\n",
       "        vertical-align: top;\n",
       "    }\n",
       "\n",
       "    .dataframe thead th {\n",
       "        text-align: right;\n",
       "    }\n",
       "</style>\n",
       "<table border=\"1\" class=\"dataframe\">\n",
       "  <thead>\n",
       "    <tr style=\"text-align: right;\">\n",
       "      <th></th>\n",
       "      <th>first_name</th>\n",
       "      <th>last_name</th>\n",
       "      <th>skills</th>\n",
       "      <th>state</th>\n",
       "      <th>specialty</th>\n",
       "      <th>experience</th>\n",
       "      <th>relocation</th>\n",
       "    </tr>\n",
       "  </thead>\n",
       "  <tbody>\n",
       "    <tr>\n",
       "      <th>249</th>\n",
       "      <td>Amy</td>\n",
       "      <td>Campbell</td>\n",
       "      <td>[C++]</td>\n",
       "      <td>MO</td>\n",
       "      <td>Database</td>\n",
       "      <td>Junior</td>\n",
       "      <td>yes</td>\n",
       "    </tr>\n",
       "    <tr>\n",
       "      <th>141</th>\n",
       "      <td>Michael</td>\n",
       "      <td>Rice</td>\n",
       "      <td>[Python, TensorFlow, Java, MongoDB]</td>\n",
       "      <td>MD</td>\n",
       "      <td>Data Visualization</td>\n",
       "      <td>Junior</td>\n",
       "      <td>no</td>\n",
       "    </tr>\n",
       "    <tr>\n",
       "      <th>142</th>\n",
       "      <td>Bradley</td>\n",
       "      <td>Howard</td>\n",
       "      <td>[C++, MongoDB]</td>\n",
       "      <td>OR</td>\n",
       "      <td>Machine Learning</td>\n",
       "      <td>Junior</td>\n",
       "      <td>no</td>\n",
       "    </tr>\n",
       "    <tr>\n",
       "      <th>143</th>\n",
       "      <td>Tyler</td>\n",
       "      <td>Lee</td>\n",
       "      <td>[Spark, Java]</td>\n",
       "      <td>MO</td>\n",
       "      <td>Statistics</td>\n",
       "      <td>Junior</td>\n",
       "      <td>yes</td>\n",
       "    </tr>\n",
       "    <tr>\n",
       "      <th>145</th>\n",
       "      <td>Sandra</td>\n",
       "      <td>Ford</td>\n",
       "      <td>[C++, Spark]</td>\n",
       "      <td>MI</td>\n",
       "      <td>Statistics</td>\n",
       "      <td>Junior</td>\n",
       "      <td>maybe</td>\n",
       "    </tr>\n",
       "    <tr>\n",
       "      <th>...</th>\n",
       "      <td>...</td>\n",
       "      <td>...</td>\n",
       "      <td>...</td>\n",
       "      <td>...</td>\n",
       "      <td>...</td>\n",
       "      <td>...</td>\n",
       "      <td>...</td>\n",
       "    </tr>\n",
       "    <tr>\n",
       "      <th>133</th>\n",
       "      <td>Kevin</td>\n",
       "      <td>Murphy</td>\n",
       "      <td>[Java, C++, TensorFlow, Spark, skLearn]</td>\n",
       "      <td>UT</td>\n",
       "      <td>Database</td>\n",
       "      <td>Senior</td>\n",
       "      <td>yes</td>\n",
       "    </tr>\n",
       "    <tr>\n",
       "      <th>131</th>\n",
       "      <td>Olivia</td>\n",
       "      <td>Thomas</td>\n",
       "      <td>[Python, C++]</td>\n",
       "      <td>ME</td>\n",
       "      <td>Database</td>\n",
       "      <td>Senior</td>\n",
       "      <td>maybe</td>\n",
       "    </tr>\n",
       "    <tr>\n",
       "      <th>355</th>\n",
       "      <td>Aaron</td>\n",
       "      <td>Williams</td>\n",
       "      <td>[MongoDB, TensorFlow, Python]</td>\n",
       "      <td>MS</td>\n",
       "      <td>Database</td>\n",
       "      <td>Senior</td>\n",
       "      <td>yes</td>\n",
       "    </tr>\n",
       "    <tr>\n",
       "      <th>357</th>\n",
       "      <td>Lindsey</td>\n",
       "      <td>Colon</td>\n",
       "      <td>[SQL, R, MongoDB, skLearn, Python, Java, C++, ...</td>\n",
       "      <td>WI</td>\n",
       "      <td>Statistics</td>\n",
       "      <td>Senior</td>\n",
       "      <td>maybe</td>\n",
       "    </tr>\n",
       "    <tr>\n",
       "      <th>499</th>\n",
       "      <td>Mrs.</td>\n",
       "      <td>Debra</td>\n",
       "      <td>[skLearn, R, MongoDB, Spark, TensorFlow, Java,...</td>\n",
       "      <td>TX</td>\n",
       "      <td>Statistics</td>\n",
       "      <td>Senior</td>\n",
       "      <td>no</td>\n",
       "    </tr>\n",
       "  </tbody>\n",
       "</table>\n",
       "<p>500 rows × 7 columns</p>\n",
       "</div>"
      ],
      "text/plain": [
       "    first_name last_name                                             skills  \\\n",
       "249        Amy  Campbell                                              [C++]   \n",
       "141    Michael      Rice                [Python, TensorFlow, Java, MongoDB]   \n",
       "142    Bradley    Howard                                     [C++, MongoDB]   \n",
       "143      Tyler       Lee                                      [Spark, Java]   \n",
       "145     Sandra      Ford                                       [C++, Spark]   \n",
       "..         ...       ...                                                ...   \n",
       "133      Kevin    Murphy            [Java, C++, TensorFlow, Spark, skLearn]   \n",
       "131     Olivia    Thomas                                      [Python, C++]   \n",
       "355      Aaron  Williams                      [MongoDB, TensorFlow, Python]   \n",
       "357    Lindsey     Colon  [SQL, R, MongoDB, skLearn, Python, Java, C++, ...   \n",
       "499       Mrs.     Debra  [skLearn, R, MongoDB, Spark, TensorFlow, Java,...   \n",
       "\n",
       "    state           specialty experience relocation  \n",
       "249    MO            Database     Junior        yes  \n",
       "141    MD  Data Visualization     Junior         no  \n",
       "142    OR    Machine Learning     Junior         no  \n",
       "143    MO          Statistics     Junior        yes  \n",
       "145    MI          Statistics     Junior      maybe  \n",
       "..    ...                 ...        ...        ...  \n",
       "133    UT            Database     Senior        yes  \n",
       "131    ME            Database     Senior      maybe  \n",
       "355    MS            Database     Senior        yes  \n",
       "357    WI          Statistics     Senior      maybe  \n",
       "499    TX          Statistics     Senior         no  \n",
       "\n",
       "[500 rows x 7 columns]"
      ]
     },
     "execution_count": 8,
     "metadata": {},
     "output_type": "execute_result"
    }
   ],
   "source": [
    "data1.sort_values('experience')"
   ]
  },
  {
   "cell_type": "markdown",
   "metadata": {},
   "source": [
    "What experience levels do employees have?"
   ]
  },
  {
   "cell_type": "code",
   "execution_count": 9,
   "metadata": {
    "scrolled": true
   },
   "outputs": [
    {
     "data": {
      "text/plain": [
       "array(['Mid', 'Senior', 'Junior'], dtype=object)"
      ]
     },
     "execution_count": 9,
     "metadata": {},
     "output_type": "execute_result"
    }
   ],
   "source": [
    "data1['experience'].unique()"
   ]
  },
  {
   "cell_type": "markdown",
   "metadata": {},
   "source": [
    "How many employees have mid-level experience?"
   ]
  },
  {
   "cell_type": "code",
   "execution_count": 10,
   "metadata": {},
   "outputs": [
    {
     "data": {
      "text/plain": [
       "179"
      ]
     },
     "execution_count": 10,
     "metadata": {},
     "output_type": "execute_result"
    }
   ],
   "source": [
    "data1[data1['experience']=='Mid'].shape[0]"
   ]
  },
  {
   "cell_type": "markdown",
   "metadata": {},
   "source": [
    "How many employees have Senior-level experience?"
   ]
  },
  {
   "cell_type": "code",
   "execution_count": 11,
   "metadata": {},
   "outputs": [
    {
     "data": {
      "text/plain": [
       "163"
      ]
     },
     "execution_count": 11,
     "metadata": {},
     "output_type": "execute_result"
    }
   ],
   "source": [
    "data1[data1['experience']=='Senior'].shape[0]"
   ]
  },
  {
   "cell_type": "markdown",
   "metadata": {},
   "source": [
    "How many employees have Junior-level experience?"
   ]
  },
  {
   "cell_type": "code",
   "execution_count": 12,
   "metadata": {},
   "outputs": [
    {
     "data": {
      "text/plain": [
       "158"
      ]
     },
     "execution_count": 12,
     "metadata": {},
     "output_type": "execute_result"
    }
   ],
   "source": [
    "data1[data1['experience']=='Junior'].shape[0]"
   ]
  },
  {
   "cell_type": "code",
   "execution_count": 13,
   "metadata": {},
   "outputs": [
    {
     "data": {
      "text/html": [
       "<div>\n",
       "<style scoped>\n",
       "    .dataframe tbody tr th:only-of-type {\n",
       "        vertical-align: middle;\n",
       "    }\n",
       "\n",
       "    .dataframe tbody tr th {\n",
       "        vertical-align: top;\n",
       "    }\n",
       "\n",
       "    .dataframe thead th {\n",
       "        text-align: right;\n",
       "    }\n",
       "</style>\n",
       "<table border=\"1\" class=\"dataframe\">\n",
       "  <thead>\n",
       "    <tr style=\"text-align: right;\">\n",
       "      <th></th>\n",
       "      <th>first_name</th>\n",
       "      <th>last_name</th>\n",
       "      <th>skills</th>\n",
       "      <th>state</th>\n",
       "      <th>specialty</th>\n",
       "      <th>experience</th>\n",
       "      <th>relocation</th>\n",
       "    </tr>\n",
       "  </thead>\n",
       "  <tbody>\n",
       "    <tr>\n",
       "      <th>102</th>\n",
       "      <td>Theresa</td>\n",
       "      <td>Martinez</td>\n",
       "      <td>[Python, SQL, MongoDB, C++, TensorFlow, skLearn]</td>\n",
       "      <td>WI</td>\n",
       "      <td>Data Visualization</td>\n",
       "      <td>Senior</td>\n",
       "      <td>yes</td>\n",
       "    </tr>\n",
       "    <tr>\n",
       "      <th>352</th>\n",
       "      <td>Glenn</td>\n",
       "      <td>Stewart</td>\n",
       "      <td>[TensorFlow, Java, Spark, SQL, R, skLearn, Mon...</td>\n",
       "      <td>NC</td>\n",
       "      <td>Data Visualization</td>\n",
       "      <td>Mid</td>\n",
       "      <td>no</td>\n",
       "    </tr>\n",
       "    <tr>\n",
       "      <th>112</th>\n",
       "      <td>Jennifer</td>\n",
       "      <td>Stewart</td>\n",
       "      <td>[Python, Java, skLearn, R, Spark]</td>\n",
       "      <td>CA</td>\n",
       "      <td>Data Visualization</td>\n",
       "      <td>Senior</td>\n",
       "      <td>maybe</td>\n",
       "    </tr>\n",
       "    <tr>\n",
       "      <th>344</th>\n",
       "      <td>Nancy</td>\n",
       "      <td>Morton</td>\n",
       "      <td>[Spark, Python, SQL, Java, skLearn, MongoDB, T...</td>\n",
       "      <td>MS</td>\n",
       "      <td>Data Visualization</td>\n",
       "      <td>Junior</td>\n",
       "      <td>yes</td>\n",
       "    </tr>\n",
       "    <tr>\n",
       "      <th>337</th>\n",
       "      <td>Steven</td>\n",
       "      <td>Allen</td>\n",
       "      <td>[Java, Spark]</td>\n",
       "      <td>NH</td>\n",
       "      <td>Data Visualization</td>\n",
       "      <td>Junior</td>\n",
       "      <td>no</td>\n",
       "    </tr>\n",
       "    <tr>\n",
       "      <th>...</th>\n",
       "      <td>...</td>\n",
       "      <td>...</td>\n",
       "      <td>...</td>\n",
       "      <td>...</td>\n",
       "      <td>...</td>\n",
       "      <td>...</td>\n",
       "      <td>...</td>\n",
       "    </tr>\n",
       "    <tr>\n",
       "      <th>353</th>\n",
       "      <td>Theresa</td>\n",
       "      <td>Brown</td>\n",
       "      <td>[skLearn, C++]</td>\n",
       "      <td>OH</td>\n",
       "      <td>Statistics</td>\n",
       "      <td>Mid</td>\n",
       "      <td>no</td>\n",
       "    </tr>\n",
       "    <tr>\n",
       "      <th>354</th>\n",
       "      <td>Alyssa</td>\n",
       "      <td>Sandoval</td>\n",
       "      <td>[MongoDB, R, skLearn, Python]</td>\n",
       "      <td>OK</td>\n",
       "      <td>Statistics</td>\n",
       "      <td>Junior</td>\n",
       "      <td>no</td>\n",
       "    </tr>\n",
       "    <tr>\n",
       "      <th>110</th>\n",
       "      <td>Sarah</td>\n",
       "      <td>Porter</td>\n",
       "      <td>[MongoDB, Python, skLearn, SQL, Java, TensorFlow]</td>\n",
       "      <td>KY</td>\n",
       "      <td>Statistics</td>\n",
       "      <td>Senior</td>\n",
       "      <td>yes</td>\n",
       "    </tr>\n",
       "    <tr>\n",
       "      <th>109</th>\n",
       "      <td>Jacqueline</td>\n",
       "      <td>Spencer</td>\n",
       "      <td>[Java, Python, skLearn, R, MongoDB, C++, SQL, ...</td>\n",
       "      <td>ME</td>\n",
       "      <td>Statistics</td>\n",
       "      <td>Mid</td>\n",
       "      <td>no</td>\n",
       "    </tr>\n",
       "    <tr>\n",
       "      <th>499</th>\n",
       "      <td>Mrs.</td>\n",
       "      <td>Debra</td>\n",
       "      <td>[skLearn, R, MongoDB, Spark, TensorFlow, Java,...</td>\n",
       "      <td>TX</td>\n",
       "      <td>Statistics</td>\n",
       "      <td>Senior</td>\n",
       "      <td>no</td>\n",
       "    </tr>\n",
       "  </tbody>\n",
       "</table>\n",
       "<p>500 rows × 7 columns</p>\n",
       "</div>"
      ],
      "text/plain": [
       "     first_name last_name                                             skills  \\\n",
       "102     Theresa  Martinez   [Python, SQL, MongoDB, C++, TensorFlow, skLearn]   \n",
       "352       Glenn   Stewart  [TensorFlow, Java, Spark, SQL, R, skLearn, Mon...   \n",
       "112    Jennifer   Stewart                  [Python, Java, skLearn, R, Spark]   \n",
       "344       Nancy    Morton  [Spark, Python, SQL, Java, skLearn, MongoDB, T...   \n",
       "337      Steven     Allen                                      [Java, Spark]   \n",
       "..          ...       ...                                                ...   \n",
       "353     Theresa     Brown                                     [skLearn, C++]   \n",
       "354      Alyssa  Sandoval                      [MongoDB, R, skLearn, Python]   \n",
       "110       Sarah    Porter  [MongoDB, Python, skLearn, SQL, Java, TensorFlow]   \n",
       "109  Jacqueline   Spencer  [Java, Python, skLearn, R, MongoDB, C++, SQL, ...   \n",
       "499        Mrs.     Debra  [skLearn, R, MongoDB, Spark, TensorFlow, Java,...   \n",
       "\n",
       "    state           specialty experience relocation  \n",
       "102    WI  Data Visualization     Senior        yes  \n",
       "352    NC  Data Visualization        Mid         no  \n",
       "112    CA  Data Visualization     Senior      maybe  \n",
       "344    MS  Data Visualization     Junior        yes  \n",
       "337    NH  Data Visualization     Junior         no  \n",
       "..    ...                 ...        ...        ...  \n",
       "353    OH          Statistics        Mid         no  \n",
       "354    OK          Statistics     Junior         no  \n",
       "110    KY          Statistics     Senior        yes  \n",
       "109    ME          Statistics        Mid         no  \n",
       "499    TX          Statistics     Senior         no  \n",
       "\n",
       "[500 rows x 7 columns]"
      ]
     },
     "execution_count": 13,
     "metadata": {},
     "output_type": "execute_result"
    }
   ],
   "source": [
    "data1.sort_values('specialty')"
   ]
  },
  {
   "cell_type": "code",
   "execution_count": 14,
   "metadata": {},
   "outputs": [
    {
     "data": {
      "text/plain": [
       "array(['Database', 'Statistics', 'Machine Learning', 'Data Visualization'],\n",
       "      dtype=object)"
      ]
     },
     "execution_count": 14,
     "metadata": {},
     "output_type": "execute_result"
    }
   ],
   "source": [
    "data1['specialty'].unique()"
   ]
  },
  {
   "cell_type": "markdown",
   "metadata": {},
   "source": [
    "How many employees have specialized in databases?"
   ]
  },
  {
   "cell_type": "code",
   "execution_count": 15,
   "metadata": {},
   "outputs": [
    {
     "data": {
      "text/plain": [
       "137"
      ]
     },
     "execution_count": 15,
     "metadata": {},
     "output_type": "execute_result"
    }
   ],
   "source": [
    "data1[data1['specialty']=='Database'].shape[0]"
   ]
  },
  {
   "cell_type": "markdown",
   "metadata": {},
   "source": [
    "How many employees have specialized in statistics?"
   ]
  },
  {
   "cell_type": "code",
   "execution_count": 16,
   "metadata": {},
   "outputs": [
    {
     "data": {
      "text/plain": [
       "133"
      ]
     },
     "execution_count": 16,
     "metadata": {},
     "output_type": "execute_result"
    }
   ],
   "source": [
    "data1[data1['specialty']=='Statistics'].shape[0]"
   ]
  },
  {
   "cell_type": "markdown",
   "metadata": {},
   "source": [
    "How many employees have specialized in machine learning?"
   ]
  },
  {
   "cell_type": "code",
   "execution_count": 17,
   "metadata": {},
   "outputs": [
    {
     "data": {
      "text/plain": [
       "114"
      ]
     },
     "execution_count": 17,
     "metadata": {},
     "output_type": "execute_result"
    }
   ],
   "source": [
    "data1[data1['specialty']=='Machine Learning'].shape[0]"
   ]
  },
  {
   "cell_type": "markdown",
   "metadata": {},
   "source": [
    "How many employees have specialized in data visualization?"
   ]
  },
  {
   "cell_type": "code",
   "execution_count": 18,
   "metadata": {},
   "outputs": [
    {
     "data": {
      "text/plain": [
       "116"
      ]
     },
     "execution_count": 18,
     "metadata": {},
     "output_type": "execute_result"
    }
   ],
   "source": [
    "data1[data1['specialty']=='Data Visualization'].shape[0]"
   ]
  },
  {
   "cell_type": "code",
   "execution_count": 19,
   "metadata": {},
   "outputs": [
    {
     "data": {
      "text/html": [
       "<div>\n",
       "<style scoped>\n",
       "    .dataframe tbody tr th:only-of-type {\n",
       "        vertical-align: middle;\n",
       "    }\n",
       "\n",
       "    .dataframe tbody tr th {\n",
       "        vertical-align: top;\n",
       "    }\n",
       "\n",
       "    .dataframe thead th {\n",
       "        text-align: right;\n",
       "    }\n",
       "</style>\n",
       "<table border=\"1\" class=\"dataframe\">\n",
       "  <thead>\n",
       "    <tr style=\"text-align: right;\">\n",
       "      <th></th>\n",
       "      <th>first_name</th>\n",
       "      <th>last_name</th>\n",
       "      <th>skills</th>\n",
       "      <th>state</th>\n",
       "      <th>specialty</th>\n",
       "      <th>experience</th>\n",
       "      <th>relocation</th>\n",
       "    </tr>\n",
       "  </thead>\n",
       "  <tbody>\n",
       "    <tr>\n",
       "      <th>127</th>\n",
       "      <td>Donald</td>\n",
       "      <td>Jefferson</td>\n",
       "      <td>[C++, SQL, skLearn, Python, MongoDB, Spark]</td>\n",
       "      <td>MT</td>\n",
       "      <td>Machine Learning</td>\n",
       "      <td>Mid</td>\n",
       "      <td>maybe</td>\n",
       "    </tr>\n",
       "    <tr>\n",
       "      <th>147</th>\n",
       "      <td>Shawn</td>\n",
       "      <td>James</td>\n",
       "      <td>[R, Python]</td>\n",
       "      <td>LA</td>\n",
       "      <td>Machine Learning</td>\n",
       "      <td>Mid</td>\n",
       "      <td>maybe</td>\n",
       "    </tr>\n",
       "    <tr>\n",
       "      <th>359</th>\n",
       "      <td>Nicole</td>\n",
       "      <td>Lewis</td>\n",
       "      <td>[Spark, Python, TensorFlow, C++, SQL]</td>\n",
       "      <td>AZ</td>\n",
       "      <td>Statistics</td>\n",
       "      <td>Junior</td>\n",
       "      <td>maybe</td>\n",
       "    </tr>\n",
       "    <tr>\n",
       "      <th>149</th>\n",
       "      <td>Elizabeth</td>\n",
       "      <td>Prince</td>\n",
       "      <td>[TensorFlow]</td>\n",
       "      <td>ID</td>\n",
       "      <td>Database</td>\n",
       "      <td>Junior</td>\n",
       "      <td>maybe</td>\n",
       "    </tr>\n",
       "    <tr>\n",
       "      <th>357</th>\n",
       "      <td>Lindsey</td>\n",
       "      <td>Colon</td>\n",
       "      <td>[SQL, R, MongoDB, skLearn, Python, Java, C++, ...</td>\n",
       "      <td>WI</td>\n",
       "      <td>Statistics</td>\n",
       "      <td>Senior</td>\n",
       "      <td>maybe</td>\n",
       "    </tr>\n",
       "    <tr>\n",
       "      <th>...</th>\n",
       "      <td>...</td>\n",
       "      <td>...</td>\n",
       "      <td>...</td>\n",
       "      <td>...</td>\n",
       "      <td>...</td>\n",
       "      <td>...</td>\n",
       "      <td>...</td>\n",
       "    </tr>\n",
       "    <tr>\n",
       "      <th>150</th>\n",
       "      <td>Nicholas</td>\n",
       "      <td>Bruce</td>\n",
       "      <td>[R, Spark]</td>\n",
       "      <td>ND</td>\n",
       "      <td>Data Visualization</td>\n",
       "      <td>Mid</td>\n",
       "      <td>yes</td>\n",
       "    </tr>\n",
       "    <tr>\n",
       "      <th>358</th>\n",
       "      <td>John</td>\n",
       "      <td>Schneider</td>\n",
       "      <td>[MongoDB, TensorFlow, C++, R, skLearn]</td>\n",
       "      <td>HI</td>\n",
       "      <td>Database</td>\n",
       "      <td>Mid</td>\n",
       "      <td>yes</td>\n",
       "    </tr>\n",
       "    <tr>\n",
       "      <th>143</th>\n",
       "      <td>Tyler</td>\n",
       "      <td>Lee</td>\n",
       "      <td>[Spark, Java]</td>\n",
       "      <td>MO</td>\n",
       "      <td>Statistics</td>\n",
       "      <td>Junior</td>\n",
       "      <td>yes</td>\n",
       "    </tr>\n",
       "    <tr>\n",
       "      <th>182</th>\n",
       "      <td>Ashley</td>\n",
       "      <td>Smith</td>\n",
       "      <td>[C++, Spark, R, Java, MongoDB, Python, skLearn...</td>\n",
       "      <td>NM</td>\n",
       "      <td>Database</td>\n",
       "      <td>Senior</td>\n",
       "      <td>yes</td>\n",
       "    </tr>\n",
       "    <tr>\n",
       "      <th>249</th>\n",
       "      <td>Amy</td>\n",
       "      <td>Campbell</td>\n",
       "      <td>[C++]</td>\n",
       "      <td>MO</td>\n",
       "      <td>Database</td>\n",
       "      <td>Junior</td>\n",
       "      <td>yes</td>\n",
       "    </tr>\n",
       "  </tbody>\n",
       "</table>\n",
       "<p>500 rows × 7 columns</p>\n",
       "</div>"
      ],
      "text/plain": [
       "    first_name  last_name                                             skills  \\\n",
       "127     Donald  Jefferson        [C++, SQL, skLearn, Python, MongoDB, Spark]   \n",
       "147      Shawn      James                                        [R, Python]   \n",
       "359     Nicole      Lewis              [Spark, Python, TensorFlow, C++, SQL]   \n",
       "149  Elizabeth     Prince                                       [TensorFlow]   \n",
       "357    Lindsey      Colon  [SQL, R, MongoDB, skLearn, Python, Java, C++, ...   \n",
       "..         ...        ...                                                ...   \n",
       "150   Nicholas      Bruce                                         [R, Spark]   \n",
       "358       John  Schneider             [MongoDB, TensorFlow, C++, R, skLearn]   \n",
       "143      Tyler        Lee                                      [Spark, Java]   \n",
       "182     Ashley      Smith  [C++, Spark, R, Java, MongoDB, Python, skLearn...   \n",
       "249        Amy   Campbell                                              [C++]   \n",
       "\n",
       "    state           specialty experience relocation  \n",
       "127    MT    Machine Learning        Mid      maybe  \n",
       "147    LA    Machine Learning        Mid      maybe  \n",
       "359    AZ          Statistics     Junior      maybe  \n",
       "149    ID            Database     Junior      maybe  \n",
       "357    WI          Statistics     Senior      maybe  \n",
       "..    ...                 ...        ...        ...  \n",
       "150    ND  Data Visualization        Mid        yes  \n",
       "358    HI            Database        Mid        yes  \n",
       "143    MO          Statistics     Junior        yes  \n",
       "182    NM            Database     Senior        yes  \n",
       "249    MO            Database     Junior        yes  \n",
       "\n",
       "[500 rows x 7 columns]"
      ]
     },
     "execution_count": 19,
     "metadata": {},
     "output_type": "execute_result"
    }
   ],
   "source": [
    "data1.sort_values('relocation')"
   ]
  },
  {
   "cell_type": "code",
   "execution_count": 20,
   "metadata": {},
   "outputs": [
    {
     "data": {
      "text/plain": [
       "array(['no', 'yes', 'maybe'], dtype=object)"
      ]
     },
     "execution_count": 20,
     "metadata": {},
     "output_type": "execute_result"
    }
   ],
   "source": [
    "data1['relocation'].unique()"
   ]
  },
  {
   "cell_type": "markdown",
   "metadata": {},
   "source": [
    "How many employees are willing to relocate?"
   ]
  },
  {
   "cell_type": "code",
   "execution_count": 21,
   "metadata": {},
   "outputs": [
    {
     "data": {
      "text/plain": [
       "163"
      ]
     },
     "execution_count": 21,
     "metadata": {},
     "output_type": "execute_result"
    }
   ],
   "source": [
    "data1[data1['relocation']=='yes'].shape[0]"
   ]
  },
  {
   "cell_type": "markdown",
   "metadata": {},
   "source": [
    "How many employees are not willing to relocate?"
   ]
  },
  {
   "cell_type": "code",
   "execution_count": 22,
   "metadata": {},
   "outputs": [
    {
     "data": {
      "text/plain": [
       "172"
      ]
     },
     "execution_count": 22,
     "metadata": {},
     "output_type": "execute_result"
    }
   ],
   "source": [
    "data1[data1['relocation']=='no'].shape[0]"
   ]
  },
  {
   "cell_type": "markdown",
   "metadata": {},
   "source": [
    "How many employees are not sure about their decision of relocating yet?"
   ]
  },
  {
   "cell_type": "code",
   "execution_count": 23,
   "metadata": {},
   "outputs": [
    {
     "data": {
      "text/plain": [
       "165"
      ]
     },
     "execution_count": 23,
     "metadata": {},
     "output_type": "execute_result"
    }
   ],
   "source": [
    "data1[data1['relocation']=='maybe'].shape[0]"
   ]
  },
  {
   "cell_type": "code",
   "execution_count": 24,
   "metadata": {},
   "outputs": [],
   "source": [
    "data1['S.no.']=list(range(500))"
   ]
  },
  {
   "cell_type": "code",
   "execution_count": 25,
   "metadata": {},
   "outputs": [],
   "source": [
    "skill_id=[]\n",
    "for i in range(500):\n",
    "    skill_id.append(pd.DataFrame(data['features'][i]['candidate']).shape[0])\n",
    "indices=[i for i in range(len(skill_id)) if skill_id[i]==9 ]\n"
   ]
  },
  {
   "cell_type": "code",
   "execution_count": 26,
   "metadata": {},
   "outputs": [
    {
     "data": {
      "text/plain": [
       "{1, 2, 3, 4, 5, 6, 7, 8, 9}"
      ]
     },
     "execution_count": 26,
     "metadata": {},
     "output_type": "execute_result"
    }
   ],
   "source": [
    "set(skill_id)"
   ]
  },
  {
   "cell_type": "markdown",
   "metadata": {},
   "source": [
    "How many employees have all desired skills?"
   ]
  },
  {
   "cell_type": "code",
   "execution_count": 27,
   "metadata": {},
   "outputs": [
    {
     "data": {
      "text/plain": [
       "52"
      ]
     },
     "execution_count": 27,
     "metadata": {},
     "output_type": "execute_result"
    }
   ],
   "source": [
    "mostskilled=data1.iloc[indices]\n",
    "mostskilled.shape[0]"
   ]
  },
  {
   "cell_type": "markdown",
   "metadata": {},
   "source": [
    "How many employees have all desired skills with mid experience level?"
   ]
  },
  {
   "cell_type": "code",
   "execution_count": 28,
   "metadata": {},
   "outputs": [
    {
     "data": {
      "text/plain": [
       "24"
      ]
     },
     "execution_count": 28,
     "metadata": {},
     "output_type": "execute_result"
    }
   ],
   "source": [
    "mostskilled[mostskilled['experience']=='Mid'].shape[0]"
   ]
  },
  {
   "cell_type": "markdown",
   "metadata": {},
   "source": [
    "How many employees have all desired skills with senior experience level?"
   ]
  },
  {
   "cell_type": "code",
   "execution_count": 29,
   "metadata": {},
   "outputs": [
    {
     "data": {
      "text/plain": [
       "16"
      ]
     },
     "execution_count": 29,
     "metadata": {},
     "output_type": "execute_result"
    }
   ],
   "source": [
    "mostskilled[mostskilled['experience']=='Senior'].shape[0]"
   ]
  },
  {
   "cell_type": "markdown",
   "metadata": {},
   "source": [
    "How many employees have all desired skills with junior experience level?"
   ]
  },
  {
   "cell_type": "code",
   "execution_count": 30,
   "metadata": {},
   "outputs": [
    {
     "data": {
      "text/plain": [
       "12"
      ]
     },
     "execution_count": 30,
     "metadata": {},
     "output_type": "execute_result"
    }
   ],
   "source": [
    "mostskilled[mostskilled['experience']=='Junior'].shape[0]"
   ]
  },
  {
   "cell_type": "markdown",
   "metadata": {},
   "source": [
    "How many employees have all desired skills with specialization in databases?"
   ]
  },
  {
   "cell_type": "code",
   "execution_count": 31,
   "metadata": {},
   "outputs": [
    {
     "data": {
      "text/plain": [
       "8"
      ]
     },
     "execution_count": 31,
     "metadata": {},
     "output_type": "execute_result"
    }
   ],
   "source": [
    "mostskilled[mostskilled['specialty']=='Database'].shape[0]"
   ]
  },
  {
   "cell_type": "markdown",
   "metadata": {},
   "source": [
    "How many employees have all desired skills with specialization in machine learning?"
   ]
  },
  {
   "cell_type": "code",
   "execution_count": 32,
   "metadata": {},
   "outputs": [
    {
     "data": {
      "text/plain": [
       "10"
      ]
     },
     "execution_count": 32,
     "metadata": {},
     "output_type": "execute_result"
    }
   ],
   "source": [
    "mostskilled[mostskilled['specialty']=='Machine Learning'].shape[0]"
   ]
  },
  {
   "cell_type": "markdown",
   "metadata": {},
   "source": [
    "How many employees have all desired skills with specialization in data visualization?"
   ]
  },
  {
   "cell_type": "code",
   "execution_count": 33,
   "metadata": {},
   "outputs": [
    {
     "data": {
      "text/plain": [
       "17"
      ]
     },
     "execution_count": 33,
     "metadata": {},
     "output_type": "execute_result"
    }
   ],
   "source": [
    "mostskilled[mostskilled['specialty']=='Data Visualization'].shape[0]"
   ]
  },
  {
   "cell_type": "markdown",
   "metadata": {},
   "source": [
    "How many employees have all desired skills with specialization in statistics?"
   ]
  },
  {
   "cell_type": "code",
   "execution_count": 34,
   "metadata": {},
   "outputs": [
    {
     "data": {
      "text/plain": [
       "17"
      ]
     },
     "execution_count": 34,
     "metadata": {},
     "output_type": "execute_result"
    }
   ],
   "source": [
    "mostskilled[mostskilled['specialty']=='Statistics'].shape[0]"
   ]
  },
  {
   "cell_type": "code",
   "execution_count": 35,
   "metadata": {},
   "outputs": [],
   "source": [
    "a=pd.DataFrame()\n",
    "for i in range(0,500):\n",
    "    a=pd.DataFrame.append(a,pd.DataFrame(data['features'][i]['candidate']),ignore_index=True)"
   ]
  },
  {
   "cell_type": "code",
   "execution_count": 36,
   "metadata": {},
   "outputs": [
    {
     "name": "stdout",
     "output_type": "stream",
     "text": [
      "<class 'pandas.core.frame.DataFrame'>\n",
      "RangeIndex: 2468 entries, 0 to 2467\n",
      "Data columns (total 7 columns):\n",
      " #   Column      Non-Null Count  Dtype \n",
      "---  ------      --------------  ----- \n",
      " 0   first_name  2468 non-null   object\n",
      " 1   last_name   2468 non-null   object\n",
      " 2   skills      2468 non-null   object\n",
      " 3   state       2468 non-null   object\n",
      " 4   specialty   2468 non-null   object\n",
      " 5   experience  2468 non-null   object\n",
      " 6   relocation  2468 non-null   object\n",
      "dtypes: object(7)\n",
      "memory usage: 135.1+ KB\n"
     ]
    }
   ],
   "source": [
    "a.info()"
   ]
  },
  {
   "cell_type": "code",
   "execution_count": 37,
   "metadata": {},
   "outputs": [
    {
     "data": {
      "text/html": [
       "<div>\n",
       "<style scoped>\n",
       "    .dataframe tbody tr th:only-of-type {\n",
       "        vertical-align: middle;\n",
       "    }\n",
       "\n",
       "    .dataframe tbody tr th {\n",
       "        vertical-align: top;\n",
       "    }\n",
       "\n",
       "    .dataframe thead th {\n",
       "        text-align: right;\n",
       "    }\n",
       "</style>\n",
       "<table border=\"1\" class=\"dataframe\">\n",
       "  <thead>\n",
       "    <tr style=\"text-align: right;\">\n",
       "      <th></th>\n",
       "      <th>first_name</th>\n",
       "      <th>last_name</th>\n",
       "      <th>skills</th>\n",
       "      <th>state</th>\n",
       "      <th>specialty</th>\n",
       "      <th>experience</th>\n",
       "      <th>relocation</th>\n",
       "    </tr>\n",
       "  </thead>\n",
       "  <tbody>\n",
       "    <tr>\n",
       "      <th>count</th>\n",
       "      <td>2468</td>\n",
       "      <td>2468</td>\n",
       "      <td>2468</td>\n",
       "      <td>2468</td>\n",
       "      <td>2468</td>\n",
       "      <td>2468</td>\n",
       "      <td>2468</td>\n",
       "    </tr>\n",
       "    <tr>\n",
       "      <th>unique</th>\n",
       "      <td>243</td>\n",
       "      <td>308</td>\n",
       "      <td>9</td>\n",
       "      <td>50</td>\n",
       "      <td>4</td>\n",
       "      <td>3</td>\n",
       "      <td>3</td>\n",
       "    </tr>\n",
       "    <tr>\n",
       "      <th>top</th>\n",
       "      <td>Michael</td>\n",
       "      <td>Jones</td>\n",
       "      <td>Spark</td>\n",
       "      <td>AL</td>\n",
       "      <td>Database</td>\n",
       "      <td>Mid</td>\n",
       "      <td>no</td>\n",
       "    </tr>\n",
       "    <tr>\n",
       "      <th>freq</th>\n",
       "      <td>90</td>\n",
       "      <td>57</td>\n",
       "      <td>285</td>\n",
       "      <td>78</td>\n",
       "      <td>644</td>\n",
       "      <td>904</td>\n",
       "      <td>856</td>\n",
       "    </tr>\n",
       "  </tbody>\n",
       "</table>\n",
       "</div>"
      ],
      "text/plain": [
       "       first_name last_name skills state specialty experience relocation\n",
       "count        2468      2468   2468  2468      2468       2468       2468\n",
       "unique        243       308      9    50         4          3          3\n",
       "top       Michael     Jones  Spark    AL  Database        Mid         no\n",
       "freq           90        57    285    78       644        904        856"
      ]
     },
     "execution_count": 37,
     "metadata": {},
     "output_type": "execute_result"
    }
   ],
   "source": [
    "a.describe()"
   ]
  },
  {
   "cell_type": "code",
   "execution_count": 38,
   "metadata": {},
   "outputs": [
    {
     "data": {
      "text/plain": [
       "array(['skLearn', 'Java', 'R', 'SQL', 'Spark', 'C++', 'TensorFlow',\n",
       "       'MongoDB', 'Python'], dtype=object)"
      ]
     },
     "execution_count": 38,
     "metadata": {},
     "output_type": "execute_result"
    }
   ],
   "source": [
    "a['skills'].unique()"
   ]
  },
  {
   "cell_type": "markdown",
   "metadata": {},
   "source": [
    "How many employees know skLearn ?"
   ]
  },
  {
   "cell_type": "code",
   "execution_count": 39,
   "metadata": {},
   "outputs": [
    {
     "data": {
      "text/plain": [
       "267"
      ]
     },
     "execution_count": 39,
     "metadata": {},
     "output_type": "execute_result"
    }
   ],
   "source": [
    "a[a['skills']=='skLearn'].shape[0]"
   ]
  },
  {
   "cell_type": "markdown",
   "metadata": {},
   "source": [
    "How many employees know Java ?"
   ]
  },
  {
   "cell_type": "code",
   "execution_count": 40,
   "metadata": {},
   "outputs": [
    {
     "data": {
      "text/plain": [
       "267"
      ]
     },
     "execution_count": 40,
     "metadata": {},
     "output_type": "execute_result"
    }
   ],
   "source": [
    "a[a['skills']=='Java'].shape[0]"
   ]
  },
  {
   "cell_type": "markdown",
   "metadata": {},
   "source": [
    "How many employees know R ?"
   ]
  },
  {
   "cell_type": "code",
   "execution_count": 41,
   "metadata": {},
   "outputs": [
    {
     "data": {
      "text/plain": [
       "272"
      ]
     },
     "execution_count": 41,
     "metadata": {},
     "output_type": "execute_result"
    }
   ],
   "source": [
    "a[a['skills']=='R'].shape[0]"
   ]
  },
  {
   "cell_type": "markdown",
   "metadata": {},
   "source": [
    "How many employees know SQL ?"
   ]
  },
  {
   "cell_type": "code",
   "execution_count": 42,
   "metadata": {},
   "outputs": [
    {
     "data": {
      "text/plain": [
       "277"
      ]
     },
     "execution_count": 42,
     "metadata": {},
     "output_type": "execute_result"
    }
   ],
   "source": [
    "a[a['skills']=='SQL'].shape[0]"
   ]
  },
  {
   "cell_type": "markdown",
   "metadata": {},
   "source": [
    "How many employees know Spark ?"
   ]
  },
  {
   "cell_type": "code",
   "execution_count": 43,
   "metadata": {},
   "outputs": [
    {
     "data": {
      "text/plain": [
       "285"
      ]
     },
     "execution_count": 43,
     "metadata": {},
     "output_type": "execute_result"
    }
   ],
   "source": [
    "a[a['skills']=='Spark'].shape[0]"
   ]
  },
  {
   "cell_type": "markdown",
   "metadata": {},
   "source": [
    "How many employees know C++ ?"
   ]
  },
  {
   "cell_type": "code",
   "execution_count": 44,
   "metadata": {},
   "outputs": [
    {
     "data": {
      "text/plain": [
       "274"
      ]
     },
     "execution_count": 44,
     "metadata": {},
     "output_type": "execute_result"
    }
   ],
   "source": [
    "a[a['skills']=='C++'].shape[0]"
   ]
  },
  {
   "cell_type": "markdown",
   "metadata": {},
   "source": [
    "How many employees know TenserFlow ?"
   ]
  },
  {
   "cell_type": "code",
   "execution_count": 45,
   "metadata": {},
   "outputs": [
    {
     "data": {
      "text/plain": [
       "280"
      ]
     },
     "execution_count": 45,
     "metadata": {},
     "output_type": "execute_result"
    }
   ],
   "source": [
    "a[a['skills']=='TensorFlow'].shape[0]"
   ]
  },
  {
   "cell_type": "markdown",
   "metadata": {},
   "source": [
    "How many employees know MongoDB ?"
   ]
  },
  {
   "cell_type": "code",
   "execution_count": 46,
   "metadata": {},
   "outputs": [
    {
     "data": {
      "text/plain": [
       "274"
      ]
     },
     "execution_count": 46,
     "metadata": {},
     "output_type": "execute_result"
    }
   ],
   "source": [
    "a[a['skills']=='MongoDB'].shape[0]"
   ]
  },
  {
   "cell_type": "markdown",
   "metadata": {},
   "source": [
    "How many employees know Python ?"
   ]
  },
  {
   "cell_type": "code",
   "execution_count": 47,
   "metadata": {},
   "outputs": [
    {
     "data": {
      "text/plain": [
       "272"
      ]
     },
     "execution_count": 47,
     "metadata": {},
     "output_type": "execute_result"
    }
   ],
   "source": [
    "a[a['skills']=='Python'].shape[0]"
   ]
  },
  {
   "cell_type": "markdown",
   "metadata": {},
   "source": [
    "How to sort data alphabetically in order of employee's first name?"
   ]
  },
  {
   "cell_type": "code",
   "execution_count": 48,
   "metadata": {},
   "outputs": [],
   "source": [
    "sorted_alphabetically=data1.sort_values('first_name')"
   ]
  },
  {
   "cell_type": "code",
   "execution_count": 49,
   "metadata": {},
   "outputs": [
    {
     "data": {
      "text/plain": [
       "array(['AL', 'AR', 'UT', 'FL', 'WY', 'OK', 'NM', 'TX', 'WI', 'PA', 'NV',\n",
       "       'MO', 'ID', 'KY', 'NE', 'WV', 'NC', 'TN', 'CT', 'IN', 'ND', 'HI',\n",
       "       'NJ', 'GA', 'CO', 'LA', 'AK', 'SD', 'MA', 'MT', 'SC', 'NY', 'DE',\n",
       "       'IL', 'AZ', 'IA', 'WA', 'VA', 'RI', 'MD', 'CA', 'OR', 'ME', 'OH',\n",
       "       'KS', 'MN', 'MI', 'MS', 'NH', 'VT'], dtype=object)"
      ]
     },
     "execution_count": 49,
     "metadata": {},
     "output_type": "execute_result"
    }
   ],
   "source": [
    "data1['state'].unique()"
   ]
  },
  {
   "cell_type": "markdown",
   "metadata": {},
   "source": [
    "Number of employees from each state"
   ]
  },
  {
   "cell_type": "code",
   "execution_count": 50,
   "metadata": {},
   "outputs": [
    {
     "name": "stdout",
     "output_type": "stream",
     "text": [
      "AL 12\n",
      "AR 8\n",
      "UT 9\n",
      "FL 11\n",
      "WY 11\n",
      "OK 14\n",
      "NM 15\n",
      "TX 10\n",
      "WI 12\n",
      "PA 9\n",
      "NV 11\n",
      "MO 17\n",
      "ID 11\n",
      "KY 7\n",
      "NE 12\n",
      "WV 11\n",
      "NC 11\n",
      "TN 7\n",
      "CT 14\n",
      "IN 7\n",
      "ND 10\n",
      "HI 10\n",
      "NJ 7\n",
      "GA 13\n",
      "CO 10\n",
      "LA 11\n",
      "AK 10\n",
      "SD 3\n",
      "MA 12\n",
      "MT 13\n",
      "SC 10\n",
      "NY 10\n",
      "DE 8\n",
      "IL 10\n",
      "AZ 8\n",
      "IA 12\n",
      "WA 11\n",
      "VA 5\n",
      "RI 8\n",
      "MD 9\n",
      "CA 11\n",
      "OR 13\n",
      "ME 8\n",
      "OH 9\n",
      "KS 10\n",
      "MN 13\n",
      "MI 9\n",
      "MS 10\n",
      "NH 6\n",
      "VT 2\n"
     ]
    }
   ],
   "source": [
    "k=[]\n",
    "for i in data1['state'].unique():\n",
    "    for j in data1['state']:\n",
    "        if i==j:\n",
    "                k.append(j)\n",
    "for i in data1['state'].unique():\n",
    "    print(i,k.count(i))"
   ]
  },
  {
   "cell_type": "code",
   "execution_count": null,
   "metadata": {},
   "outputs": [],
   "source": []
  }
 ],
 "metadata": {
  "kernelspec": {
   "display_name": "Python 3",
   "language": "python",
   "name": "python3"
  },
  "language_info": {
   "codemirror_mode": {
    "name": "ipython",
    "version": 3
   },
   "file_extension": ".py",
   "mimetype": "text/x-python",
   "name": "python",
   "nbconvert_exporter": "python",
   "pygments_lexer": "ipython3",
   "version": "3.8.5"
  }
 },
 "nbformat": 4,
 "nbformat_minor": 4
}
